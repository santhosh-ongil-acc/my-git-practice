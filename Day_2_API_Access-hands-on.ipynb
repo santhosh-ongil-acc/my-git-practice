{
 "cells": [
  {
   "cell_type": "markdown",
   "metadata": {},
   "source": [
    "\n",
    "# 🧰 Day 2: Development Tools and API Access\n",
    "\n",
    "Lets make our first API calls. Get ready to write code and talk to powerful AI models!"
   ]
  },
  {
   "cell_type": "markdown",
   "metadata": {},
   "source": [
    "## Note: Please Make sure you copied ”Day_2_API_Access-hands-on.ipynb”  from Course->week0->Day2- to folder where you cloned your repository and continue to open in VScode."
   ]
  },
  {
   "cell_type": "markdown",
   "metadata": {},
   "source": [
    "## 🔐API Keys and Basic requests\n",
    "\n",
    "We’ll use `.env` files and the `python-dotenv` package to manage secrets like API keys.\n",
    "\n",
    "[ .env should always be added in .gitignore ]\n",
    "\n",
    "#### Why Use .env Files?\n",
    "* Keep sensitive data out of source code\n",
    "* Prevent accidental commits of secrets to version control\n",
    "* Easy to manage different configurations for development/production\n",
    "* Follows security best practices\n",
    "\n",
    "### Copy Day_2_VScode_and_API_Access.ipynb to the your clone repository"
   ]
  },
  {
   "cell_type": "markdown",
   "metadata": {},
   "source": [
    "### Step 1: Select existing Kernel\n",
    "\n",
    "- Kernel selection in to right side"
   ]
  },
  {
   "cell_type": "markdown",
   "metadata": {},
   "source": [
    "### Step 2: Install python-dotenv\n"
   ]
  },
  {
   "cell_type": "code",
   "execution_count": 1,
   "metadata": {},
   "outputs": [
    {
     "name": "stdout",
     "output_type": "stream",
     "text": [
      "Requirement already satisfied: python-dotenv in c:\\users\\santhosh\\virtual_envs\\demo\\lib\\site-packages (1.1.0)\n"
     ]
    },
    {
     "name": "stderr",
     "output_type": "stream",
     "text": [
      "\n",
      "[notice] A new release of pip available: 22.3.1 -> 25.1.1\n",
      "[notice] To update, run: python.exe -m pip install --upgrade pip\n"
     ]
    }
   ],
   "source": [
    "! pip install python-dotenv"
   ]
  },
  {
   "cell_type": "markdown",
   "metadata": {},
   "source": [
    "### Step 3: Import required dependencies"
   ]
  },
  {
   "cell_type": "code",
   "execution_count": 2,
   "metadata": {},
   "outputs": [
    {
     "data": {
      "application/vnd.jupyter.widget-view+json": {
       "model_id": "247d917b6aaf4831b9b2e5aa8495e332",
       "version_major": 2,
       "version_minor": 0
      },
      "text/plain": [
       "Text(value='c:\\\\Users\\\\santhosh\\\\local_repo\\\\my-git-practice', description='local folder name', disabled=True,…"
      ]
     },
     "metadata": {},
     "output_type": "display_data"
    },
    {
     "data": {
      "application/vnd.jupyter.widget-view+json": {
       "model_id": "587bc94c01374e27b3b62d3f727aea6c",
       "version_major": 2,
       "version_minor": 0
      },
      "text/plain": [
       "Text(value='', description='Repository URL', layout=Layout(width='90%'), style=TextStyle(description_width='in…"
      ]
     },
     "metadata": {},
     "output_type": "display_data"
    },
    {
     "data": {
      "application/vnd.jupyter.widget-view+json": {
       "model_id": "e47fec37b61e4bbc85eafc7fd3655405",
       "version_major": 2,
       "version_minor": 0
      },
      "text/plain": [
       "Text(value='', description='Repository name', disabled=True, layout=Layout(width='90%'), style=TextStyle(descr…"
      ]
     },
     "metadata": {},
     "output_type": "display_data"
    }
   ],
   "source": [
    "import os\n",
    "from dotenv import load_dotenv\n",
    "import requests\n",
    "import json\n",
    "local_folder = os.getcwd()   #\"<local folder name>\" # folder where we gonna clone repository \"C:\\\\Users\\\\santhosh\\\\local_repo\"  \n",
    "\n",
    "import ipywidgets as widgets\n",
    "from IPython.display import display\n",
    "\n",
    "local_folder = widgets.Text(\n",
    "    value=local_folder,   \n",
    "    description='local folder name',\n",
    "    disabled=True,\n",
    "    layout=widgets.Layout(width='90%'),\n",
    "    style={'description_width': 'initial'}\n",
    ")\n",
    "\n",
    "\n",
    "repository_URL = widgets.Text(\n",
    "    value='',  \n",
    "    description='Repository URL',\n",
    "    layout=widgets.Layout(width='90%'),\n",
    "    style={'description_width': 'initial'}\n",
    ")\n",
    "\n",
    "repository_name = widgets.Text(\n",
    "    value='',  \n",
    "    description='Repository name',\n",
    "    layout=widgets.Layout(width='90%'),\n",
    "    disabled = True,\n",
    "    style={'description_width': 'initial'}\n",
    "\n",
    ")\n",
    "\n",
    "# Function to update the second widget based on the first widget's value\n",
    "def update_last_folder(change):\n",
    "    full_path = change.new\n",
    "    if full_path:\n",
    "        last_folder = full_path.split('/')[-1].split('.')[0]\n",
    "        repository_name.value = last_folder\n",
    "    else:\n",
    "        repository_name.value = ''\n",
    "\n",
    "# Observe changes in the 'value' of the first widget and call the update function\n",
    "repository_URL.observe(update_last_folder, names='value')\n",
    "\n",
    "# Display the widget in the notebook\n",
    "display(local_folder)\n",
    "display(repository_URL)\n",
    "display(repository_name)\n",
    "\n"
   ]
  },
  {
   "cell_type": "markdown",
   "metadata": {},
   "source": [
    "### Step 3: `.env` file creation\n",
    "\n",
    "Create a `.env` file in the root of your project directory (in this case, my-git-practise local repository folder), add:\n",
    "\n",
    "```\n",
    "# OpenRouter API Configuration for OpenAI SDK\n",
    "OPENAI_API_KEY=your_api_key_here\n",
    "\n",
    "# Base URL for OpenRouter API\n",
    "OPENROUTER_BASE_URL=https://openrouter.ai/api/v1\n",
    "\n",
    "# Optional: Application identification for OpenRouter rankings\n",
    "# HTTP_REFERER=https://your-site.com\n",
    "# X_TITLE=Your App Name\n",
    "```\n",
    "\n",
    "This file should be added to `.gitignore`."
   ]
  },
  {
   "cell_type": "code",
   "execution_count": 4,
   "metadata": {},
   "outputs": [],
   "source": [
    "env_string = '''# OpenRouter API Configuration for OpenAI SDK\n",
    "OPENAI_API_KEY=your_api_key_here\n",
    "\n",
    "# Base URL for OpenRouter API\n",
    "OPENROUTER_BASE_URL=https://openrouter.ai/api/v1\n",
    "\n",
    "# Optional: Application identification for OpenRouter rankings\n",
    "# HTTP_REFERER=https://your-site.com\n",
    "# X_TITLE=Your App Name'''\n",
    "\n",
    "env_path = os.path.join(os.getcwd(), \".env\")\n",
    "with open(env_path, \"a\") as f:\n",
    "        f.write(env_string)"
   ]
  },
  {
   "cell_type": "markdown",
   "metadata": {},
   "source": [
    "### Step 4: `.gitignore` file creation and `.env` to `.gitignore`"
   ]
  },
  {
   "cell_type": "code",
   "execution_count": 5,
   "metadata": {},
   "outputs": [],
   "source": [
    "gitignore_path = os.path.join(os.getcwd(), \".gitignore\")\n",
    "\n",
    "# Check if .gitignore exists, if not create it\n",
    "if not os.path.exists(gitignore_path):\n",
    "    with open(gitignore_path, \"w\") as f:\n",
    "        f.write(\".env\\n\")\n",
    "else:\n",
    "    # Append .env to .gitignore if not already present\n",
    "    with open(gitignore_path, \"r+\") as f:\n",
    "        lines = f.read().splitlines()\n",
    "        if \".env\" not in lines:\n",
    "            f.write(\"\\n.env\\n\")"
   ]
  },
  {
   "cell_type": "markdown",
   "metadata": {},
   "source": [
    "### Step 4: Loading .env in Python"
   ]
  },
  {
   "cell_type": "code",
   "execution_count": 6,
   "metadata": {},
   "outputs": [
    {
     "name": "stdout",
     "output_type": "stream",
     "text": [
      "API Key Loaded: True\n"
     ]
    }
   ],
   "source": [
    "from dotenv import load_dotenv\n",
    "import os\n",
    "\n",
    "load_dotenv()\n",
    "api_key = os.getenv(\"OPENAI_API_KEY\")\n",
    "print(\"API Key Loaded:\", bool(api_key))"
   ]
  },
  {
   "cell_type": "markdown",
   "metadata": {},
   "source": [
    "- Note: if API Key loaded: False, then there is an issue in .env file creation. please check"
   ]
  },
  {
   "cell_type": "markdown",
   "metadata": {},
   "source": [
    "#### ✅ Testing API Connectivity\n",
    "\n",
    "Let’s test if your environment can reach the internet and access APIs.\n",
    "\n",
    "We’ll use a simple public HTTP test endpoint.\n"
   ]
  },
  {
   "cell_type": "code",
   "execution_count": 7,
   "metadata": {},
   "outputs": [
    {
     "name": "stdout",
     "output_type": "stream",
     "text": [
      "✅ Internet & API access working.\n"
     ]
    }
   ],
   "source": [
    "try:\n",
    "    response = requests.get(\"https://httpbin.org/get\")\n",
    "    if response.status_code == 200:\n",
    "        print(\"✅ Internet & API access working.\")\n",
    "    else:\n",
    "        print(\"⚠️ Received response but not 200 OK.\")\n",
    "except Exception as e:\n",
    "    print(\"❌ Error accessing API:\", e)\n"
   ]
  },
  {
   "cell_type": "markdown",
   "metadata": {},
   "source": [
    "### Step 5: Push .gitignore changes to your repository in command prompt or using VS code"
   ]
  },
  {
   "cell_type": "code",
   "execution_count": null,
   "metadata": {},
   "outputs": [
    {
     "ename": "NameError",
     "evalue": "name 'repoistory_name' is not defined",
     "output_type": "error",
     "traceback": [
      "\u001b[31m---------------------------------------------------------------------------\u001b[39m",
      "\u001b[31mNameError\u001b[39m                                 Traceback (most recent call last)",
      "\u001b[36mCell\u001b[39m\u001b[36m \u001b[39m\u001b[32mIn[10]\u001b[39m\u001b[32m, line 1\u001b[39m\n\u001b[32m----> \u001b[39m\u001b[32m1\u001b[39m \u001b[33mf\u001b[39m\u001b[33m\"\u001b[39m\u001b[38;5;132;01m{\u001b[39;00mlocal_folder.value\u001b[38;5;132;01m}\u001b[39;00m\u001b[33m\\\u001b[39m\u001b[38;5;132;01m{\u001b[39;00m\u001b[43mrepoistory_name\u001b[49m.value\u001b[38;5;132;01m}\u001b[39;00m\u001b[33m\"\u001b[39m\n",
      "\u001b[31mNameError\u001b[39m: name 'repoistory_name' is not defined"
     ]
    }
   ],
   "source": [
    "f\"{local_folder.value}\\{repository_name.value}\""
   ]
  },
  {
   "cell_type": "code",
   "execution_count": 8,
   "metadata": {},
   "outputs": [
    {
     "name": "stderr",
     "output_type": "stream",
     "text": [
      "The system cannot find the path specified.\n"
     ]
    }
   ],
   "source": [
    "! cd {local_folder.value}\\{repoistory_name.value} && git status"
   ]
  },
  {
   "cell_type": "code",
   "execution_count": null,
   "metadata": {},
   "outputs": [],
   "source": [
    "! cd {local_folder.value}\\{repoistory_name.value} && git add ."
   ]
  },
  {
   "cell_type": "code",
   "execution_count": null,
   "metadata": {},
   "outputs": [],
   "source": [
    "! cd {local_folder.value}\\{repoistory_name.value} && git commit -m \"pushing .gitignore\""
   ]
  },
  {
   "cell_type": "code",
   "execution_count": null,
   "metadata": {},
   "outputs": [],
   "source": [
    "! cd {local_folder.value}\\{repoistory_name.value} && git push"
   ]
  },
  {
   "cell_type": "markdown",
   "metadata": {},
   "source": [
    "## Making Your First API Calls in Python\n",
    "\n",
    "The requests library in Python simplifies making HTTP requests. It offers intuitive methods (like get, post, put, delete) corresponding to HTTP verbs. You provide a URL and optional data/parameters, and it handles the underlying HTTP complexities.\n",
    "\n",
    "The response from the server is returned as a Response object, containing status codes, headers, and the content (text, bytes, or JSON). It's a user-friendly way to interact with web services and APIs in Python.\n",
    "\n",
    "In this section, we'll:\n",
    "- Understand how to test internet/API connectivity\n",
    "- Use `requests` to make basic HTTP calls\n",
    "- Interact with APIs like OpenAI (or any public API)\n",
    "- Learn to parse and handle JSON responses\n"
   ]
  },
  {
   "cell_type": "markdown",
   "metadata": {},
   "source": [
    "### 📖 Step 1: Understanding API Documentation\n",
    "\n",
    "\n",
    "| Section          | What to Look For                                   | In Example                   |\n",
    "| ---------------- | -------------------------------------------------- | ---------------------------- |\n",
    "| **Endpoint**     | URL you should hit                                 | `/data/2.5/weather`          |\n",
    "| **Method**       | GET / POST / PUT / DELETE                          | `GET`                        |\n",
    "| **Query Params** | What data to pass in URL (q=city, appid=key, etc.) | `q=Chennai&appid=...`        |\n",
    "| **Headers**      | Sometimes needed for authorization/content-type    |` Bearer abc123`              |\n",
    "| **Response**     | JSON format showing city, temp, weather, etc.      | `data[\"weather\"][0][\"desc\"]` |\n",
    "\n",
    "#### Example (Book Store API):\n",
    "Base URL: \n",
    "```\n",
    "https://api.bookstore.com/v1\n",
    "```\n",
    "Authorization: \n",
    "```\n",
    "Bearer YOUR_API_KEY\n",
    "```\n",
    "#### Endpoint 1 - Add a new book\n",
    "\n",
    "Description:\n",
    "Adds a new book to the catalog.\n",
    "\n",
    "URL:\n",
    "```\n",
    "POST /books \n",
    "```\n",
    "\n",
    "Headers:\n",
    "```\n",
    "Content-Type: application/json\n",
    "Authorization: Bearer YOUR_API_KEY\n",
    "```\n",
    "\n",
    "Body:\n",
    "```json\n",
    "  {\n",
    "  \"title\": \"1984\",\n",
    "  \"author\": \"George Orwell\",\n",
    "  \"published_year\": 1949\n",
    "}\n",
    "```\n",
    "\n",
    "Response - 1:\n",
    "```json\n",
    "{\n",
    "  \"id\": 5,\n",
    "  \"message\": \"Book added successfully\"\n",
    "}\n",
    "```\n",
    "Response - 2:\n",
    "```json\n",
    "{\n",
    "  \"id\": 5,\n",
    "  \"error\": \"Book already exists\"\n",
    "}\n",
    "```\n",
    "\n"
   ]
  },
  {
   "cell_type": "markdown",
   "metadata": {},
   "source": [
    "### Headers keys and its purpose\n",
    "| Header          | Purpose                                                                                                         |\n",
    "| --------------- | --------------------------------------------------------------------------------------------------------------- |\n",
    "| `Content-Type`  | Specifies the format of the data you're sending (`application/json`, `application/x-www-form-urlencoded`, etc.) |\n",
    "| `Accept`        | Tells the server what response format you want (`application/json`, `text/html`, etc.)                          |\n",
    "| `Authorization` | Used for sending API keys, tokens (Bearer, Basic auth, etc.)                                                    |\n",
    "| `User-Agent`    | Identifies the client (browser, app, script, etc.)                                                              |\n",
    "| `Referer`       | Tells the server where the request originated from                                                              |"
   ]
  },
  {
   "cell_type": "markdown",
   "metadata": {},
   "source": [
    "### 🧪 Step 2: Basic HTTP Request\n",
    "Let’s try calling a public API that returns JSON.\n"
   ]
  },
  {
   "cell_type": "code",
   "execution_count": 19,
   "metadata": {},
   "outputs": [
    {
     "name": "stdout",
     "output_type": "stream",
     "text": [
      "Status Code: 200\n",
      "URL with Params: https://jsonplaceholder.typicode.com/posts?userId=1\n",
      "Response JSON:\n",
      "[{'userId': 1, 'id': 1, 'title': 'sunt aut facere repellat provident occaecati excepturi optio reprehenderit', 'body': 'quia et suscipit\\nsuscipit recusandae consequuntur expedita et cum\\nreprehenderit molestiae ut ut quas totam\\nnostrum rerum est autem sunt rem eveniet architecto'}, {'userId': 1, 'id': 2, 'title': 'qui est esse', 'body': 'est rerum tempore vitae\\nsequi sint nihil reprehenderit dolor beatae ea dolores neque\\nfugiat blanditiis voluptate porro vel nihil molestiae ut reiciendis\\nqui aperiam non debitis possimus qui neque nisi nulla'}, {'userId': 1, 'id': 3, 'title': 'ea molestias quasi exercitationem repellat qui ipsa sit aut', 'body': 'et iusto sed quo iure\\nvoluptatem occaecati omnis eligendi aut ad\\nvoluptatem doloribus vel accusantium quis pariatur\\nmolestiae porro eius odio et labore et velit aut'}, {'userId': 1, 'id': 4, 'title': 'eum et est occaecati', 'body': 'ullam et saepe reiciendis voluptatem adipisci\\nsit amet autem assumenda provident rerum culpa\\nquis hic commodi nesciunt rem tenetur doloremque ipsam iure\\nquis sunt voluptatem rerum illo velit'}, {'userId': 1, 'id': 5, 'title': 'nesciunt quas odio', 'body': 'repudiandae veniam quaerat sunt sed\\nalias aut fugiat sit autem sed est\\nvoluptatem omnis possimus esse voluptatibus quis\\nest aut tenetur dolor neque'}, {'userId': 1, 'id': 6, 'title': 'dolorem eum magni eos aperiam quia', 'body': 'ut aspernatur corporis harum nihil quis provident sequi\\nmollitia nobis aliquid molestiae\\nperspiciatis et ea nemo ab reprehenderit accusantium quas\\nvoluptate dolores velit et doloremque molestiae'}, {'userId': 1, 'id': 7, 'title': 'magnam facilis autem', 'body': 'dolore placeat quibusdam ea quo vitae\\nmagni quis enim qui quis quo nemo aut saepe\\nquidem repellat excepturi ut quia\\nsunt ut sequi eos ea sed quas'}, {'userId': 1, 'id': 8, 'title': 'dolorem dolore est ipsam', 'body': 'dignissimos aperiam dolorem qui eum\\nfacilis quibusdam animi sint suscipit qui sint possimus cum\\nquaerat magni maiores excepturi\\nipsam ut commodi dolor voluptatum modi aut vitae'}, {'userId': 1, 'id': 9, 'title': 'nesciunt iure omnis dolorem tempora et accusantium', 'body': 'consectetur animi nesciunt iure dolore\\nenim quia ad\\nveniam autem ut quam aut nobis\\net est aut quod aut provident voluptas autem voluptas'}, {'userId': 1, 'id': 10, 'title': 'optio molestias id quia eum', 'body': 'quo et expedita modi cum officia vel magni\\ndoloribus qui repudiandae\\nvero nisi sit\\nquos veniam quod sed accusamus veritatis error'}]\n"
     ]
    }
   ],
   "source": [
    "\n",
    "# GET request with params\n",
    "\n",
    "import requests\n",
    "\n",
    "# Define endpoint and params\n",
    "url = \"https://jsonplaceholder.typicode.com/posts\"\n",
    "\n",
    "params = {\n",
    "    'userId': 1\n",
    "    }\n",
    "\n",
    "# Make GET request with params\n",
    "response = requests.get(url, params=params)\n",
    "\n",
    "# Print status code and JSON response\n",
    "print(\"Status Code:\", response.status_code)\n",
    "print(\"URL with Params:\", response.url)\n",
    "print(\"Response JSON:\")\n",
    "print(response.json())"
   ]
  },
  {
   "cell_type": "code",
   "execution_count": 20,
   "metadata": {},
   "outputs": [
    {
     "name": "stdout",
     "output_type": "stream",
     "text": [
      "Status Code: 201\n",
      "Response JSON:\n",
      "{'title': 'Foo', 'body': 'Bar content here', 'userId': 1, 'id': 101}\n"
     ]
    }
   ],
   "source": [
    "# POST method request\n",
    "\n",
    "import requests\n",
    "\n",
    "# URL for creating a post\n",
    "url = \"https://jsonplaceholder.typicode.com/posts\"\n",
    "\n",
    "# headers\n",
    "headers = {\n",
    "    \"Content-Type\": \"application/json\",\n",
    "    \"Authorization\": \"Bearer YOUR_TOKEN_HERE\"\n",
    "}\n",
    "\n",
    "# JSON data to send\n",
    "data = {\n",
    "    \"title\": \"Foo\",\n",
    "    \"body\": \"Bar content here\",\n",
    "    \"userId\": 1\n",
    "}\n",
    "\n",
    "# Make POST request\n",
    "response = requests.post(url, json=data)\n",
    "\n",
    "# Print status code and returned data\n",
    "print(\"Status Code:\", response.status_code)\n",
    "print(\"Response JSON:\")\n",
    "print(response.json())"
   ]
  },
  {
   "cell_type": "markdown",
   "metadata": {},
   "source": [
    "### 🛠️ Step 3: Making a Call to OpenAI or LLM APIs\n",
    "\n",
    "You will need an API key (got from .env). "
   ]
  },
  {
   "cell_type": "code",
   "execution_count": 27,
   "metadata": {},
   "outputs": [
    {
     "name": "stdout",
     "output_type": "stream",
     "text": [
      "✅ OpenAI API Key loaded from .env file.\n",
      "API URL: https://openrouter.ai/api/v1/chat/completions\n",
      "✅ Status: 200\n",
      "🧠 Response:\n",
      " {'id': 'gen-1748505812-c2F7ONlUQWLEz1h4l0OV', 'provider': 'OpenAI', 'model': 'openai/gpt-3.5-turbo', 'object': 'chat.completion', 'created': 1748505812, 'choices': [{'logprobs': None, 'finish_reason': 'stop', 'native_finish_reason': 'stop', 'index': 0, 'message': {'role': 'assistant', 'content': 'Tokyo, Japan is known for being one of the most highly populated cities in the world.', 'refusal': None, 'reasoning': None}}], 'system_fingerprint': None, 'usage': {'prompt_tokens': 13, 'completion_tokens': 19, 'total_tokens': 32, 'prompt_tokens_details': {'cached_tokens': 0}, 'completion_tokens_details': {'reasoning_tokens': 0}}}\n"
     ]
    }
   ],
   "source": [
    "# Load from .env file\n",
    "load_dotenv()\n",
    "\n",
    "API_KEY = os.getenv(\"OPENROUTER_API_KEY\")\n",
    "OPENROUTER_BASE_URL = os.getenv(\"OPENROUTER_BASE_URL\")\n",
    "\n",
    "if API_KEY:\n",
    "    print(\"✅ OpenAI API Key loaded from .env file.\")\n",
    "else:\n",
    "    print(\"❌ OpenAI API Key not found in .env file.\")\n",
    "\n",
    "headers = {\n",
    "    \"Authorization\": f\"Bearer {API_KEY}\",\n",
    "    \"Content-Type\": \"application/json\"\n",
    "}\n",
    "\n",
    "# Simulated OpenAI API request\n",
    "\n",
    "url = OPENROUTER_BASE_URL + \"/chat/completions\"\n",
    "print(\"API URL:\", url)\n",
    "\n",
    "data = {\n",
    "    \"model\": \"openai/gpt-3.5-turbo\",\n",
    "    \"messages\": [\n",
    "        {\"role\": \"user\", \"content\": \"Which city is highly populated?\"}\n",
    "    ],\n",
    "    \"max_tokens\": 50\n",
    "}\n",
    "\n",
    "try:\n",
    "    response = requests.post(url, headers=headers, json=data)\n",
    "    print(\"✅ Status:\", response.status_code)\n",
    "    print(\"🧠 Response:\\n\", response.json())\n",
    "except Exception as e:\n",
    "    print(\"❌ API call failed:\", e)\n"
   ]
  },
  {
   "cell_type": "markdown",
   "metadata": {},
   "source": [
    "### 📬 What Does a Response Look Like?\n",
    "\n",
    "LLM APIs response structure:\n",
    "\n",
    "```json\n",
    "{\n",
    "  \"id\": \"gen-1747971053-jZu62IQiDbpuA1Ju2rxA\",\n",
    "  \"provider\": \"OpenAI\",\n",
    "  \"model\": \"openai/gpt-3.5-turbo\",\n",
    "  \"object\": \"chat.completion\",\n",
    "  \"created\": 1747971053,\n",
    "  \"choices\": [\n",
    "    {\n",
    "      \"logprobs\": None,\n",
    "      \"finish_reason\": \"stop\",\n",
    "      \"native_finish_reason\": \"stop\",\n",
    "      \"index\": 0,\n",
    "      \"message\": {\n",
    "        \"role\": \"assistant\",\n",
    "        \"content\": \"Tokyo, Japan is one of the most highly populated cities in the world, with a population of over 37 million people in the greater Tokyo area.\",\n",
    "        \"refusal\": None,\n",
    "        \"reasoning\": None\n",
    "      }\n",
    "    }\n",
    "  ],\n",
    "  \"system_fingerprint\": None,\n",
    "  \"usage\": {\n",
    "    \"prompt_tokens\": 13,\n",
    "    \"completion_tokens\": 31,\n",
    "    \"total_tokens\": 44,\n",
    "    \"prompt_tokens_details\": {\n",
    "      \"cached_tokens\": 0\n",
    "    },\n",
    "    \"completion_tokens_details\": {\n",
    "      \"reasoning_tokens\": 0\n",
    "    }\n",
    "  }\n",
    "}\n",
    "\n"
   ]
  },
  {
   "cell_type": "markdown",
   "metadata": {},
   "source": [
    "## 🧩 Step 4: Parsing JSON Responses\n",
    "\n",
    "Let’s extract specific values from the JSON."
   ]
  },
  {
   "cell_type": "code",
   "execution_count": 25,
   "metadata": {},
   "outputs": [
    {
     "name": "stdout",
     "output_type": "stream",
     "text": [
      "🧠 Assistant's Response:\n",
      " Tokyo, Japan is one of the most highly populated cities in the world, with a population of over 37 million people in the greater Tokyo area.\n"
     ]
    }
   ],
   "source": [
    "response_json = {\n",
    "  \"id\": \"gen-1747971053-jZu62IQiDbpuA1Ju2rxA\",\n",
    "  \"provider\": \"OpenAI\",\n",
    "  \"model\": \"openai/gpt-3.5-turbo\",\n",
    "  \"object\": \"chat.completion\",\n",
    "  \"created\": 1747971053,\n",
    "  \"choices\": [\n",
    "    {\n",
    "      \"logprobs\": None,\n",
    "      \"finish_reason\": \"stop\",\n",
    "      \"native_finish_reason\": \"stop\",\n",
    "      \"index\": 0,\n",
    "      \"message\": {\n",
    "        \"role\": \"assistant\",\n",
    "        \"content\": \"Tokyo, Japan is one of the most highly populated cities in the world, with a population of over 37 million people in the greater Tokyo area.\",\n",
    "        \"refusal\": None,\n",
    "        \"reasoning\": None\n",
    "      }\n",
    "    }\n",
    "  ],\n",
    "  \"system_fingerprint\": None,\n",
    "  \"usage\": {\n",
    "    \"prompt_tokens\": 13,\n",
    "    \"completion_tokens\": 31,\n",
    "    \"total_tokens\": 44,\n",
    "    \"prompt_tokens_details\": {\n",
    "      \"cached_tokens\": 0\n",
    "    },\n",
    "    \"completion_tokens_details\": {\n",
    "      \"reasoning_tokens\": 0\n",
    "    }\n",
    "  }\n",
    "}\n",
    "\n",
    "answer = response_json[\"choices\"][0][\"message\"][\"content\"]\n",
    "print(\"🧠 Assistant's Response:\\n\", answer)"
   ]
  },
  {
   "cell_type": "markdown",
   "metadata": {},
   "source": [
    "## ⚠️ Step 5: Basic Error Handling\n",
    "\n",
    "- Response status codes\n",
    "- API error messages\n"
   ]
  },
  {
   "cell_type": "code",
   "execution_count": 26,
   "metadata": {},
   "outputs": [
    {
     "name": "stdout",
     "output_type": "stream",
     "text": [
      "❌ HTTPError caught: 401 Client Error: UNAUTHORIZED for url: https://httpbin.org/status/401\n",
      "❌ ConnectionError caught: HTTPSConnectionPool(host='nonexistent.openrouter.ai', port=443): Max retries exceeded with url: / (Caused by NameResolutionError(\"<urllib3.connection.HTTPSConnection object at 0x000001FA59D88350>: Failed to resolve 'nonexistent.openrouter.ai' ([Errno 11001] getaddrinfo failed)\"))\n",
      "❌ TimeoutError caught: HTTPSConnectionPool(host='httpbin.org', port=443): Max retries exceeded with url: /delay/5 (Caused by ConnectTimeoutError(<urllib3.connection.HTTPSConnection object at 0x000001FA59D9A350>, 'Connection to httpbin.org timed out. (connect timeout=0.001)'))\n",
      "❌ General Exception caught: Invalid URL 'https': No scheme supplied. Perhaps you meant https://https?\n"
     ]
    }
   ],
   "source": [
    "import os\n",
    "from dotenv import load_dotenv\n",
    "import requests \n",
    "from requests.exceptions import HTTPError, ConnectionError, Timeout\n",
    "import json\n",
    "\n",
    "# Load from .env file\n",
    "load_dotenv()\n",
    "\n",
    "OPENROUTER_BASE_URL = os.getenv(\"OPENROUTER_BASE_URL\")\n",
    "\n",
    "headers = {\n",
    "    \"Content-Type\": \"application/json\"\n",
    "}\n",
    "\n",
    "# Simulated OpenAI API request\n",
    "\n",
    "url = OPENROUTER_BASE_URL + \"/chat/completions_\" # URL is Incorrect, added an underscore\n",
    "\n",
    "data = {\n",
    "    \"model\": \"openai/gpt-3.5-turbo\",\n",
    "    \"messages\": [\n",
    "        {\"role\": \"user\", \"content\": \"Which city is highly populated?\"}\n",
    "    ],\n",
    "    \"max_tokens\": 50\n",
    "}\n",
    "\n",
    "try:\n",
    "    response = requests.post(\"https://httpbin.org/status/401\", headers=headers)\n",
    "    response.raise_for_status()  # Will raise HTTPError for status codes 4xx/5xx\n",
    "    print(\"✅ Status:\", response.status_code)\n",
    "except HTTPError as http_err:\n",
    "    print(\"❌ HTTPError caught:\", http_err)\n",
    "\n",
    "# 🚫 2. Trigger ConnectionError using an invalid domain\n",
    "try:\n",
    "    response = requests.post(\"https://nonexistent.openrouter.ai\", headers=headers, )\n",
    "except ConnectionError as conn_err:\n",
    "    print(\"❌ ConnectionError caught:\", str(conn_err))\n",
    "\n",
    "# 🚫 3. Trigger Timeout by setting an unrealistically low timeout value\n",
    "try:\n",
    "    response = requests.post(\"https://httpbin.org/delay/5\", headers=headers, timeout=0.001)\n",
    "except Timeout as timeout_err:\n",
    "    print(\"❌ TimeoutError caught:\", timeout_err)\n",
    "\n",
    "# 🚫 4. Trigger a generic Exception (e.g., invalid URL format)\n",
    "try:\n",
    "    response = requests.post(\"https\", headers=headers)  # Invalid URL\n",
    "except Exception as e:\n",
    "    print(\"❌ General Exception caught:\", e)"
   ]
  },
  {
   "cell_type": "markdown",
   "metadata": {},
   "source": [
    "# Day 2 Summary \n",
    "You now have:\n",
    "- VS code installed\n",
    "- Tools to support VS code \n",
    "- LLM API calls\n",
    "- Basic error handling"
   ]
  },
  {
   "cell_type": "markdown",
   "metadata": {},
   "source": []
  }
 ],
 "metadata": {
  "kernelspec": {
   "display_name": "demo",
   "language": "python",
   "name": "python3"
  },
  "language_info": {
   "codemirror_mode": {
    "name": "ipython",
    "version": 3
   },
   "file_extension": ".py",
   "mimetype": "text/x-python",
   "name": "python",
   "nbconvert_exporter": "python",
   "pygments_lexer": "ipython3",
   "version": "3.11.3"
  }
 },
 "nbformat": 4,
 "nbformat_minor": 4
}
